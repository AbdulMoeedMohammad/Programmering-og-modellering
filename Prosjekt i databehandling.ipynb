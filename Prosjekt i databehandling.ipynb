{
 "cells": [
  {
   "cell_type": "markdown",
   "metadata": {},
   "source": [
    "# Prosjekt i databehandling\n",
    "\n",
    "Å kunne automatisere behandlingen av store mengder informasjon er en viktig del av programmering. I dette prosjektet skal dere prøve å knytte programmet deres til større databaser med informasjon, og trekke informasjonen ut av disse databasene. Deretter skal programmene deres tolke informasjonen og behandle dataene.  \n",
    "\n",
    "Dere skal jobbe i grupper på 2-4 personer, og alle skal bidra til det ferdige produktet. Det er veldig vanlig å jobbe i grupper når en skal programmere i yrkeslivet, og det er nyttig å få litt innblikk i hvordan en slik prosess fungerer allerede nå. Det er viktig at dere fordeler oppgaver på en hensiktsmessig måte mellom dere. Dere velger først en prosjektleder som kan ha det overordna ansvaret for at alt skal henge sammen til slutt, og som delegerer oppgaver som trengs å gjøres. For at det skal være enkelt å fordele oppgaver, kan det være lurt å lage ulike funksjoner som gjør forskjellige operasjoner. Dere kan eventuelt sitte sammen og gjøre all programmeringa felles. Prosjektet skal munne ut i et ferdig program og en rapport fra prosjektarbeidet. \n",
    "\n",
    "Dere kan velge mellom tre naturvitenskapelige problemstillinger, men dere står også fritt til å lage et eget prosjekt, dersom dere har noen gode idéer. Snakk med læreren når dere har fått en idé som dere tror lar seg gjennomføre. Under evaluering av prosjektet blir det lagt vekt på:\n",
    "\n",
    "- God og strukturert kode\n",
    "- Kreativ og velreflektert løsningsstrategi\n",
    "- Realfaglig forståelse\n",
    "- Grad av samarbeid\n",
    "\n",
    "Det kan være lurt å bruke Github for å samarbeide, og dere skal bruke Jupyter Notebook som leveringsformat. Nedenfor er forslag til oppgaver som dere kan fordype dere i."
   ]
  },
  {
   "cell_type": "markdown",
   "metadata": {},
   "source": [
    "## _Oppgave 1: Kjernefysiske reaksjoner (fysikk)_\n",
    "\n",
    "<img src=\"https://cdn.pixabay.com/photo/2013/07/12/14/36/nuclear-fission-148592_640.png?attachment\" width=\"25%\">\n",
    "\n",
    "\n",
    "### Teori \n",
    "\n",
    "Kjernefysiske prosesser blir stadig viktigere i vårt energikrevende samfunn, og det diskuteres stadig om kjernekraft er en av løsningene på miljø- og energiutfordringene vi står overfor i samfunnet vårt i dag. Prinsippet bak fisjonsreaktorer er at atomkjerner som er tyngre enn jern, spaltes opp ved å skyte nøytroner på dem. Da omdannes noe masse til energi ifølge Einsteins berømte masse-energilov: \n",
    "\n",
    "$E=mc^2$\n",
    "\n",
    "For å regne ut energien som frigjøres i en kjernefysisk prosess, regner en ut forskjellen i masse før og etter en kjernefysisk reaksjon, og ganger så denne massen med kvadratet av lysets hastighet. Det er slitsom og kjedelig å slå opp alle disse nuklidemassene i en tabell hver gang en skal gjøre beregninger, og da er det nyttig med et program som kan gjøre dette for oss! \n",
    "\n",
    "### Oppgave \n",
    "\n",
    "Lag et program som regner ut energien som frigjøres i en kjernefysisk reaksjon valgt av brukeren. Det kan være både fisjon, fusjon og radioaktive prosesser. Brukeren skal gi input for hvilke grunnstoffer hun har på høyre og venstre side av reaksjonspila, samt koeffisientene som er foran hvert grunnstoff. Fila som programmet skal hente informasjon fra, ligger [her](Filer\\Nuklider.txt)."
   ]
  },
  {
   "cell_type": "code",
   "execution_count": null,
   "metadata": {},
   "outputs": [],
   "source": []
  }
 ],
 "metadata": {
  "kernelspec": {
   "display_name": "Python 3",
   "language": "python",
   "name": "python3"
  },
  "language_info": {
   "codemirror_mode": {
    "name": "ipython",
    "version": 3
   },
   "file_extension": ".py",
   "mimetype": "text/x-python",
   "name": "python",
   "nbconvert_exporter": "python",
   "pygments_lexer": "ipython3",
   "version": "3.6.5"
  }
 },
 "nbformat": 4,
 "nbformat_minor": 2
}
