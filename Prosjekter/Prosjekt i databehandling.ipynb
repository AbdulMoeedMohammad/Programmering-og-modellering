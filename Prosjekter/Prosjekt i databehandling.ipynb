{
 "cells": [
  {
   "cell_type": "markdown",
   "metadata": {},
   "source": [
    "# Prosjekt i databehandling\n",
    "\n",
    "Å kunne automatisere behandlingen av store mengder informasjon er en viktig del av programmering. I dette prosjektet skal dere prøve å knytte programmet deres til større databaser med informasjon, og trekke informasjonen ut av disse databasene. Deretter skal programmene deres tolke informasjonen og behandle dataene.  \n",
    "\n",
    "Dere skal jobbe i grupper på 2-4 personer, og alle skal bidra til det ferdige produktet. Det er veldig vanlig å jobbe i grupper når en skal programmere i yrkeslivet, og det er nyttig å få litt innblikk i hvordan en slik prosess fungerer allerede nå. Det er viktig at dere fordeler oppgaver på en hensiktsmessig måte mellom dere. Dere velger først en prosjektleder som kan ha det overordna ansvaret for at alt skal henge sammen til slutt, og som delegerer oppgaver som trengs å gjøres. For at det skal være enkelt å fordele oppgaver, kan det være lurt å lage ulike funksjoner som gjør forskjellige operasjoner. Dere kan eventuelt sitte sammen og gjøre all programmeringa felles. Prosjektet skal munne ut i et ferdig program og en rapport fra prosjektarbeidet. \n",
    "\n",
    "Dere kan velge mellom tre naturvitenskapelige problemstillinger, men dere står også fritt til å lage et eget prosjekt, dersom dere har noen gode idéer. Snakk med læreren når dere har fått en idé som dere tror lar seg gjennomføre. Under evaluering av prosjektet blir det lagt vekt på:\n",
    "\n",
    "- God og strukturert kode\n",
    "- Kreativ og velreflektert løsningsstrategi\n",
    "- Realfaglig forståelse\n",
    "- Grad av samarbeid\n",
    "\n",
    "Det kan være lurt å bruke Github for å samarbeide, og dere skal bruke Jupyter Notebook som leveringsformat, der dere skal lage en rapport med programmene integrert i rapporten. Rapporten skal inneholde:\n",
    "- Nødvendig faglig matematisk/naturvitenskapelig teori.\n",
    "- Litt teori rundt noe av det programmeringstekniske (som statistik behandling av data eller regresjon, dersom du bruker det).\n",
    "- Drøfting av dataene og analysen dere har gjort.\n",
    "\n",
    "Nedenfor er forslag til oppgaver som dere kan fordype dere i."
   ]
  },
  {
   "cell_type": "markdown",
   "metadata": {},
   "source": [
    "## _Oppgave 1: Kjernefysiske reaksjoner (fysikk)_\n",
    "\n",
    "<img src=\"https://cdn.pixabay.com/photo/2013/07/12/14/36/nuclear-fission-148592_640.png?attachment\" width=\"30%\">\n",
    "\n",
    "\n",
    "### Teori \n",
    "\n",
    "Kjernefysiske prosesser blir stadig viktigere i vårt energikrevende samfunn, og det diskuteres stadig om kjernekraft er en av løsningene på miljø- og energiutfordringene vi står overfor i samfunnet vårt i dag. Prinsippet bak fisjonsreaktorer er at atomkjerner som er tyngre enn jern, spaltes opp ved å skyte nøytroner på dem. Da omdannes noe masse til energi ifølge Einsteins berømte masse-energilov: \n",
    "\n",
    "$E=mc^2$\n",
    "\n",
    "For å regne ut energien som frigjøres i en kjernefysisk prosess, regner en ut forskjellen i masse før og etter en kjernefysisk reaksjon, og ganger så denne massen med kvadratet av lysets hastighet. Det er slitsom og kjedelig å slå opp alle disse nuklidemassene i en tabell hver gang en skal gjøre beregninger, og da er det nyttig med et program som kan gjøre dette for oss! \n",
    "\n",
    "### Oppgave \n",
    "\n",
    "Lag et program som regner ut energien som frigjøres i en kjernefysisk reaksjon valgt av brukeren. Det kan være både fisjon, fusjon og radioaktive prosesser. Brukeren skal gi input for hvilke grunnstoffer hun har på høyre og venstre side av reaksjonspila. Fila som programmet skal hente informasjon fra, ligger [her](Filer\\Nuklider.txt)."
   ]
  },
  {
   "cell_type": "markdown",
   "metadata": {},
   "source": [
    "## _Oppgave 2: Klassifisering av irisblomster (biologi)_\n",
    "\n",
    "<img src=\"https://s3.amazonaws.com/assets.datacamp.com/blog_assets/Machine+Learning+R/iris-machinelearning.png\" width=\"60%\">\n",
    "\n",
    "### Teori \n",
    "Irisblomster er en slekt av opp mot 300 arter innenfor sverdliljefamilien. I 1936 klassifiserte genetikeren Ronald Fischer tre varieteter av irisblomster i denne slekten (se bildet ovenfor). Det ble da også samlet inn data for ulike individer av disse varietetene, spesielt lengde og bredde på begerblad (sepal) og  kronblad (petal). Fila som programmet skal hente informasjon fra, ligger [her](Filer\\Iris.csv).\n",
    "\n",
    "### Oppgave \n",
    "\n",
    "- Les av og undersøk irisblomstdatasettet. \n",
    "- Lag flere plott av ulike variabler mot hverandre og beskriv sammenhengen mellom dataene. Eksperimenter med farger og ulike typer plott (histogram, boksplott, linjeplott, punktplott osv.).\n",
    "- Finn ut hvordan du kan utføre regresjon på datasettene. \n",
    "- Gjør en passende regresjon med ulike variabler og forklar sammenhengen."
   ]
  },
  {
   "cell_type": "markdown",
   "metadata": {},
   "source": [
    "## _Oppgave 3: Rødvinskvalitet (kjemi)_\n",
    "\n",
    "![Rødvin](Bilder\\vin.jpg)\n",
    "\n",
    "### Teori \n",
    "Rødvinskvalitet er en subjektiv vitenskap, men kjemi er objektivt! Vi kan utforske ulike faktorer i vin for å bedømme hvilke kriterier som vinkjennere faktisk kjenner igjen. Datasettet vi skal se på ([her](Filer/vin.csv), inneholder noen verdier som trenger forklaring:\n",
    "\n",
    "- Fixed and volatile acidity: Mengden syre og flyktig syre (gasser) i g/L.\n",
    "- Citric acid: Mengden sitronsyre i g/L.\n",
    "- Residual sugar: Mengden sukker etter endt fermentering av vinen i g/L.\n",
    "- Sulphur dioxide: Mengde svoveldioksid tilsatt i vinen i mg/L.\n",
    "\n",
    "### Oppgave\n",
    "- Les av fila og undersøk dataene.\n",
    "- Finn gjennomsnitt med standardavvik (finn ut hva det er!) av de ulike verdiene og lag en tabell med disse statistiske dataene.\n",
    "- Hvilken funksjon har svoveldioksid og sulfater i vin? Hva menes med fritt og bundet svoveldioksid?\n",
    "- Plott ulike data mot hverandre.\n",
    "- Finn ut hvilke faktorer som korrelerer med rødvinskvaliteten. Diskuter om korrelasjon nødvendigvis betyr kausalitet."
   ]
  },
  {
   "cell_type": "code",
   "execution_count": null,
   "metadata": {},
   "outputs": [],
   "source": []
  }
 ],
 "metadata": {
  "kernelspec": {
   "display_name": "Python 3",
   "language": "python",
   "name": "python3"
  },
  "language_info": {
   "codemirror_mode": {
    "name": "ipython",
    "version": 3
   },
   "file_extension": ".py",
   "mimetype": "text/x-python",
   "name": "python",
   "nbconvert_exporter": "python",
   "pygments_lexer": "ipython3",
   "version": "3.6.5"
  }
 },
 "nbformat": 4,
 "nbformat_minor": 2
}
